{
 "cells": [
  {
   "cell_type": "code",
   "execution_count": 9,
   "id": "534178f2",
   "metadata": {
    "scrolled": true
   },
   "outputs": [],
   "source": [
    "import tweepy\n",
    "from dotenv import dotenv_values"
   ]
  },
  {
   "cell_type": "code",
   "execution_count": 10,
   "id": "641967a0",
   "metadata": {},
   "outputs": [],
   "source": [
    "#pip install tweepy"
   ]
  },
  {
   "cell_type": "code",
   "execution_count": 11,
   "id": "271977b8",
   "metadata": {},
   "outputs": [],
   "source": [
    "config = dotenv_values(\".env\")"
   ]
  },
  {
   "cell_type": "code",
   "execution_count": 16,
   "id": "56af13f4",
   "metadata": {},
   "outputs": [],
   "source": [
    "accessToken = config[\"ACCESS_TOKEN\"]\n",
    "accessTokenSecret = config[\"ACCESS_TOKEN_SECRET\"]\n",
    "apiKey = config[\"API_KEY\"]\n",
    "apiSecret = config[\"API_KEY_SECRET\"]\n",
    "bearerToken = config[\"BEARER_TOKEN\"]"
   ]
  },
  {
   "cell_type": "code",
   "execution_count": 19,
   "id": "1a9db3b1",
   "metadata": {},
   "outputs": [],
   "source": [
    "#apiKey"
   ]
  },
  {
   "cell_type": "code",
   "execution_count": null,
   "id": "331b6159",
   "metadata": {},
   "outputs": [],
   "source": [
    "consumer_key = \"your_consumer_key\"\n",
    "consumer_secret = \"your_consumer_secret\"\n",
    "access_token = \"your_access_token\"\n",
    "access_token_secret = \"your_access_token_secret\""
   ]
  },
  {
   "cell_type": "code",
   "execution_count": null,
   "id": "7006c8d3",
   "metadata": {},
   "outputs": [],
   "source": [
    "# Authenticate to Twitter\n",
    "auth = tweepy.OAuthHandler(consumer_key, consumer_secret)\n",
    "auth.set_access_token(access_token, access_token_secret)\n",
    "\n",
    "# Create API object\n",
    "api = tweepy.API(auth)\n",
    "\n",
    "# Define the search query and date range\n",
    "query = \"your_topic\"\n",
    "start_date = \"2022-04-27\"\n",
    "end_date = \"2023-04-27\"\n",
    "\n",
    "# Iterate through pages of results and save to CSV file\n",
    "csv_file = open(\"tweets.csv\", \"w\")\n",
    "csv_writer = csv.writer(csv_file)\n",
    "\n",
    "for page in tweepy.Cursor(api.search_tweets, q=query, lang=\"en\", since_id=start_date, until=end_date).pages():\n",
    "    for tweet in page:\n",
    "        csv_writer.writerow([tweet.id, tweet.created_at, tweet.text])\n",
    "        \n",
    "csv_file.close()"
   ]
  },
  {
   "cell_type": "code",
   "execution_count": null,
   "id": "75375542",
   "metadata": {},
   "outputs": [],
   "source": []
  },
  {
   "cell_type": "code",
   "execution_count": null,
   "id": "812b725b",
   "metadata": {},
   "outputs": [],
   "source": []
  },
  {
   "cell_type": "code",
   "execution_count": null,
   "id": "c47a9f4d",
   "metadata": {},
   "outputs": [],
   "source": []
  }
 ],
 "metadata": {
  "kernelspec": {
   "display_name": "Python 3 (ipykernel)",
   "language": "python",
   "name": "python3"
  },
  "language_info": {
   "codemirror_mode": {
    "name": "ipython",
    "version": 3
   },
   "file_extension": ".py",
   "mimetype": "text/x-python",
   "name": "python",
   "nbconvert_exporter": "python",
   "pygments_lexer": "ipython3",
   "version": "3.9.12"
  }
 },
 "nbformat": 4,
 "nbformat_minor": 5
}
