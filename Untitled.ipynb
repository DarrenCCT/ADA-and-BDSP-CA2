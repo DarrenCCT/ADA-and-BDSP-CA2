{
 "cells": [
  {
   "cell_type": "code",
   "execution_count": 1,
   "id": "1d4c638d",
   "metadata": {},
   "outputs": [],
   "source": [
    "import pandas as pd"
   ]
  },
  {
   "cell_type": "code",
   "execution_count": 2,
   "id": "dede253d",
   "metadata": {},
   "outputs": [],
   "source": [
    "data = pd.read_csv(\"2020-03-22_clean-dataset.tsv\", sep='\\t')"
   ]
  },
  {
   "cell_type": "code",
   "execution_count": 3,
   "id": "36e206c4",
   "metadata": {},
   "outputs": [
    {
     "data": {
      "text/html": [
       "<div>\n",
       "<style scoped>\n",
       "    .dataframe tbody tr th:only-of-type {\n",
       "        vertical-align: middle;\n",
       "    }\n",
       "\n",
       "    .dataframe tbody tr th {\n",
       "        vertical-align: top;\n",
       "    }\n",
       "\n",
       "    .dataframe thead th {\n",
       "        text-align: right;\n",
       "    }\n",
       "</style>\n",
       "<table border=\"1\" class=\"dataframe\">\n",
       "  <thead>\n",
       "    <tr style=\"text-align: right;\">\n",
       "      <th></th>\n",
       "      <th>tweet_id</th>\n",
       "      <th>date</th>\n",
       "      <th>time</th>\n",
       "    </tr>\n",
       "  </thead>\n",
       "  <tbody>\n",
       "    <tr>\n",
       "      <th>0</th>\n",
       "      <td>1241575703012716544</td>\n",
       "      <td>2020-3-22</td>\n",
       "      <td>4:1:29</td>\n",
       "    </tr>\n",
       "    <tr>\n",
       "      <th>1</th>\n",
       "      <td>1241575703331639296</td>\n",
       "      <td>2020-3-22</td>\n",
       "      <td>4:1:29</td>\n",
       "    </tr>\n",
       "    <tr>\n",
       "      <th>2</th>\n",
       "      <td>1241575703377780736</td>\n",
       "      <td>2020-3-22</td>\n",
       "      <td>4:1:29</td>\n",
       "    </tr>\n",
       "    <tr>\n",
       "      <th>3</th>\n",
       "      <td>1241575703394615296</td>\n",
       "      <td>2020-3-22</td>\n",
       "      <td>4:1:29</td>\n",
       "    </tr>\n",
       "    <tr>\n",
       "      <th>4</th>\n",
       "      <td>1241575703415369728</td>\n",
       "      <td>2020-3-22</td>\n",
       "      <td>4:1:29</td>\n",
       "    </tr>\n",
       "  </tbody>\n",
       "</table>\n",
       "</div>"
      ],
      "text/plain": [
       "              tweet_id       date    time\n",
       "0  1241575703012716544  2020-3-22  4:1:29\n",
       "1  1241575703331639296  2020-3-22  4:1:29\n",
       "2  1241575703377780736  2020-3-22  4:1:29\n",
       "3  1241575703394615296  2020-3-22  4:1:29\n",
       "4  1241575703415369728  2020-3-22  4:1:29"
      ]
     },
     "execution_count": 3,
     "metadata": {},
     "output_type": "execute_result"
    }
   ],
   "source": [
    "data.head()"
   ]
  },
  {
   "cell_type": "code",
   "execution_count": 4,
   "id": "746547cb",
   "metadata": {},
   "outputs": [
    {
     "name": "stdout",
     "output_type": "stream",
     "text": [
      "                   tweet_id       date    time\n",
      "0       1241575703012716544  2020-3-22  4:1:29\n",
      "1       1241575703331639296  2020-3-22  4:1:29\n",
      "2       1241575703377780736  2020-3-22  4:1:29\n",
      "3       1241575703394615296  2020-3-22  4:1:29\n",
      "4       1241575703415369728  2020-3-22  4:1:29\n",
      "...                     ...        ...     ...\n",
      "779687  1241938418990493697  2020-3-23  4:2:47\n",
      "779688  1241938419032489987  2020-3-23  4:2:47\n",
      "779689  1241938419342860291  2020-3-23  4:2:47\n",
      "779690  1241938422287253506  2020-3-23  4:2:48\n",
      "779691  1241938422329233410  2020-3-23  4:2:48\n",
      "\n",
      "[779692 rows x 3 columns]\n"
     ]
    }
   ],
   "source": [
    "print(data)"
   ]
  },
  {
   "cell_type": "code",
   "execution_count": 5,
   "id": "00af4e1c",
   "metadata": {},
   "outputs": [],
   "source": [
    "dat = pd.read_csv(\"2020-03-22-dataset.tsv\", sep='\\t')"
   ]
  },
  {
   "cell_type": "code",
   "execution_count": 7,
   "id": "ad520ac2",
   "metadata": {},
   "outputs": [
    {
     "data": {
      "text/html": [
       "<div>\n",
       "<style scoped>\n",
       "    .dataframe tbody tr th:only-of-type {\n",
       "        vertical-align: middle;\n",
       "    }\n",
       "\n",
       "    .dataframe tbody tr th {\n",
       "        vertical-align: top;\n",
       "    }\n",
       "\n",
       "    .dataframe thead th {\n",
       "        text-align: right;\n",
       "    }\n",
       "</style>\n",
       "<table border=\"1\" class=\"dataframe\">\n",
       "  <thead>\n",
       "    <tr style=\"text-align: right;\">\n",
       "      <th></th>\n",
       "      <th>tweet_id</th>\n",
       "      <th>date</th>\n",
       "      <th>time</th>\n",
       "    </tr>\n",
       "  </thead>\n",
       "  <tbody>\n",
       "    <tr>\n",
       "      <th>0</th>\n",
       "      <td>1241575703012716544</td>\n",
       "      <td>2020-3-22</td>\n",
       "      <td>4:1:29</td>\n",
       "    </tr>\n",
       "    <tr>\n",
       "      <th>1</th>\n",
       "      <td>1241575703319138304</td>\n",
       "      <td>2020-3-22</td>\n",
       "      <td>4:1:29</td>\n",
       "    </tr>\n",
       "    <tr>\n",
       "      <th>2</th>\n",
       "      <td>1241575703331639296</td>\n",
       "      <td>2020-3-22</td>\n",
       "      <td>4:1:29</td>\n",
       "    </tr>\n",
       "    <tr>\n",
       "      <th>3</th>\n",
       "      <td>1241575703352692742</td>\n",
       "      <td>2020-3-22</td>\n",
       "      <td>4:1:29</td>\n",
       "    </tr>\n",
       "    <tr>\n",
       "      <th>4</th>\n",
       "      <td>1241575703377780736</td>\n",
       "      <td>2020-3-22</td>\n",
       "      <td>4:1:29</td>\n",
       "    </tr>\n",
       "  </tbody>\n",
       "</table>\n",
       "</div>"
      ],
      "text/plain": [
       "              tweet_id       date    time\n",
       "0  1241575703012716544  2020-3-22  4:1:29\n",
       "1  1241575703319138304  2020-3-22  4:1:29\n",
       "2  1241575703331639296  2020-3-22  4:1:29\n",
       "3  1241575703352692742  2020-3-22  4:1:29\n",
       "4  1241575703377780736  2020-3-22  4:1:29"
      ]
     },
     "execution_count": 7,
     "metadata": {},
     "output_type": "execute_result"
    }
   ],
   "source": [
    "dat.head()"
   ]
  },
  {
   "cell_type": "code",
   "execution_count": null,
   "id": "d85571ed",
   "metadata": {},
   "outputs": [],
   "source": []
  }
 ],
 "metadata": {
  "kernelspec": {
   "display_name": "Python 3 (ipykernel)",
   "language": "python",
   "name": "python3"
  },
  "language_info": {
   "codemirror_mode": {
    "name": "ipython",
    "version": 3
   },
   "file_extension": ".py",
   "mimetype": "text/x-python",
   "name": "python",
   "nbconvert_exporter": "python",
   "pygments_lexer": "ipython3",
   "version": "3.9.12"
  }
 },
 "nbformat": 4,
 "nbformat_minor": 5
}
